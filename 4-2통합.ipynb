{
  "cells": [
    {
      "cell_type": "markdown",
      "metadata": {
        "id": "4p06IPOk5xil"
      },
      "source": [
        "# **응급상황 자동 인식 및 응급실 연계 서비스**\n",
        "# **단계4 : 통합 - pipeline**"
      ]
    },
    {
      "cell_type": "markdown",
      "metadata": {
        "id": "HRuiqkZnuq94"
      },
      "source": [
        "## **0.미션**\n",
        "\n",
        "단계 4에서는, 단계1,2,3 에서 생성한 함수들을 모듈화하고, 단위 테스트 및 파이프라인 코드를 작성합니다."
      ]
    },
    {
      "cell_type": "markdown",
      "metadata": {
        "id": "Y_tnKlblyQak"
      },
      "source": [
        "* **미션6**\n",
        "    * 단위 테스트\n",
        "        * 각 기능(함수)에 대해 단계별로 테스트를 수행하며 오류를 해결합니다.\n",
        "    * 파이프라인 구축\n",
        "        * 단계1의 결과가 단계2 모델에 input이 되고, 모델의 예측 결과를 기반으로\n",
        "        * 응급실 추천되도록\n",
        "        * 조원들이 녹음한 음성 파일에 임의의 좌표(위도, 경도)값을 부여\n",
        "            * 음성파일 이름과 좌표를 저장하는 별도 데이터셋 생성\n",
        "        * 각 모듈을 연결하여 파이프라인 구성하는 ipynb 파일 생성\n",
        "\n"
      ]
    },
    {
      "cell_type": "markdown",
      "metadata": {
        "id": "76Pw6f64d5VU"
      },
      "source": [
        "## **1.환경설정**"
      ]
    },
    {
      "cell_type": "markdown",
      "metadata": {
        "id": "1is0ZmzXeBrA"
      },
      "source": [
        "### (1) 경로 설정\n",
        "\n",
        "구글 드라이브 연결"
      ]
    },
    {
      "cell_type": "markdown",
      "metadata": {
        "id": "xUOpvAJGGJnL"
      },
      "source": [
        "#### 1) 구글 드라이브 폴더 생성\n",
        "* 새 폴더(project6_2)를 생성하고\n",
        "* 제공 받은 파일을 업로드"
      ]
    },
    {
      "cell_type": "markdown",
      "metadata": {
        "id": "4jUC5td4GLEF"
      },
      "source": [
        "#### 2) 구글 드라이브 연결"
      ]
    },
    {
      "cell_type": "code",
      "execution_count": 3,
      "metadata": {
        "id": "_wX7xlPARSDj",
        "colab": {
          "base_uri": "https://localhost:8080/"
        },
        "outputId": "22570a0c-a740-407a-8ca9-2011baa9560a"
      },
      "outputs": [
        {
          "output_type": "stream",
          "name": "stdout",
          "text": [
            "Mounted at /content/drive\n"
          ]
        }
      ],
      "source": [
        "from google.colab import drive\n",
        "drive.mount('/content/drive')"
      ]
    },
    {
      "cell_type": "code",
      "execution_count": 4,
      "metadata": {
        "id": "JhVujnYp4TJe"
      },
      "outputs": [],
      "source": [
        "path = '/content/drive/MyDrive/project6_2/'"
      ]
    },
    {
      "cell_type": "markdown",
      "metadata": {
        "id": "6aFiucu6evl_"
      },
      "source": [
        "### (2) 라이브러리"
      ]
    },
    {
      "cell_type": "markdown",
      "metadata": {
        "id": "06pvZvQPG4TO"
      },
      "source": [
        "#### 1) 필요한 라이브러리 설치"
      ]
    },
    {
      "cell_type": "markdown",
      "metadata": {
        "id": "9yH0bcskIzI3"
      },
      "source": [
        "* requirements.txt 파일의 [경로 복사]를 한 후,\n",
        "* 아래 경로에 붙여 넣기"
      ]
    },
    {
      "cell_type": "code",
      "execution_count": 5,
      "metadata": {
        "id": "OQVcKO7iG38A",
        "colab": {
          "base_uri": "https://localhost:8080/"
        },
        "outputId": "62e0872d-c94c-4a70-ec7e-0b3edb24c798"
      },
      "outputs": [
        {
          "output_type": "stream",
          "name": "stdout",
          "text": [
            "Requirement already satisfied: openai in /usr/local/lib/python3.10/dist-packages (from -r /content/drive/MyDrive/project6_2/requirements.txt (line 1)) (1.54.4)\n",
            "Collecting datasets (from -r /content/drive/MyDrive/project6_2/requirements.txt (line 2))\n",
            "  Downloading datasets-3.1.0-py3-none-any.whl.metadata (20 kB)\n",
            "Collecting haversine (from -r /content/drive/MyDrive/project6_2/requirements.txt (line 3))\n",
            "  Downloading haversine-2.8.1-py2.py3-none-any.whl.metadata (5.9 kB)\n",
            "Requirement already satisfied: anyio<5,>=3.5.0 in /usr/local/lib/python3.10/dist-packages (from openai->-r /content/drive/MyDrive/project6_2/requirements.txt (line 1)) (3.7.1)\n",
            "Requirement already satisfied: distro<2,>=1.7.0 in /usr/local/lib/python3.10/dist-packages (from openai->-r /content/drive/MyDrive/project6_2/requirements.txt (line 1)) (1.9.0)\n",
            "Requirement already satisfied: httpx<1,>=0.23.0 in /usr/local/lib/python3.10/dist-packages (from openai->-r /content/drive/MyDrive/project6_2/requirements.txt (line 1)) (0.27.2)\n",
            "Requirement already satisfied: jiter<1,>=0.4.0 in /usr/local/lib/python3.10/dist-packages (from openai->-r /content/drive/MyDrive/project6_2/requirements.txt (line 1)) (0.7.1)\n",
            "Requirement already satisfied: pydantic<3,>=1.9.0 in /usr/local/lib/python3.10/dist-packages (from openai->-r /content/drive/MyDrive/project6_2/requirements.txt (line 1)) (2.9.2)\n",
            "Requirement already satisfied: sniffio in /usr/local/lib/python3.10/dist-packages (from openai->-r /content/drive/MyDrive/project6_2/requirements.txt (line 1)) (1.3.1)\n",
            "Requirement already satisfied: tqdm>4 in /usr/local/lib/python3.10/dist-packages (from openai->-r /content/drive/MyDrive/project6_2/requirements.txt (line 1)) (4.66.6)\n",
            "Requirement already satisfied: typing-extensions<5,>=4.11 in /usr/local/lib/python3.10/dist-packages (from openai->-r /content/drive/MyDrive/project6_2/requirements.txt (line 1)) (4.12.2)\n",
            "Requirement already satisfied: filelock in /usr/local/lib/python3.10/dist-packages (from datasets->-r /content/drive/MyDrive/project6_2/requirements.txt (line 2)) (3.16.1)\n",
            "Requirement already satisfied: numpy>=1.17 in /usr/local/lib/python3.10/dist-packages (from datasets->-r /content/drive/MyDrive/project6_2/requirements.txt (line 2)) (1.26.4)\n",
            "Requirement already satisfied: pyarrow>=15.0.0 in /usr/local/lib/python3.10/dist-packages (from datasets->-r /content/drive/MyDrive/project6_2/requirements.txt (line 2)) (17.0.0)\n",
            "Collecting dill<0.3.9,>=0.3.0 (from datasets->-r /content/drive/MyDrive/project6_2/requirements.txt (line 2))\n",
            "  Downloading dill-0.3.8-py3-none-any.whl.metadata (10 kB)\n",
            "Requirement already satisfied: pandas in /usr/local/lib/python3.10/dist-packages (from datasets->-r /content/drive/MyDrive/project6_2/requirements.txt (line 2)) (2.2.2)\n",
            "Requirement already satisfied: requests>=2.32.2 in /usr/local/lib/python3.10/dist-packages (from datasets->-r /content/drive/MyDrive/project6_2/requirements.txt (line 2)) (2.32.3)\n",
            "Collecting xxhash (from datasets->-r /content/drive/MyDrive/project6_2/requirements.txt (line 2))\n",
            "  Downloading xxhash-3.5.0-cp310-cp310-manylinux_2_17_x86_64.manylinux2014_x86_64.whl.metadata (12 kB)\n",
            "Collecting multiprocess<0.70.17 (from datasets->-r /content/drive/MyDrive/project6_2/requirements.txt (line 2))\n",
            "  Downloading multiprocess-0.70.16-py310-none-any.whl.metadata (7.2 kB)\n",
            "Collecting fsspec<=2024.9.0,>=2023.1.0 (from fsspec[http]<=2024.9.0,>=2023.1.0->datasets->-r /content/drive/MyDrive/project6_2/requirements.txt (line 2))\n",
            "  Downloading fsspec-2024.9.0-py3-none-any.whl.metadata (11 kB)\n",
            "Requirement already satisfied: aiohttp in /usr/local/lib/python3.10/dist-packages (from datasets->-r /content/drive/MyDrive/project6_2/requirements.txt (line 2)) (3.11.1)\n",
            "Requirement already satisfied: huggingface-hub>=0.23.0 in /usr/local/lib/python3.10/dist-packages (from datasets->-r /content/drive/MyDrive/project6_2/requirements.txt (line 2)) (0.26.2)\n",
            "Requirement already satisfied: packaging in /usr/local/lib/python3.10/dist-packages (from datasets->-r /content/drive/MyDrive/project6_2/requirements.txt (line 2)) (24.2)\n",
            "Requirement already satisfied: pyyaml>=5.1 in /usr/local/lib/python3.10/dist-packages (from datasets->-r /content/drive/MyDrive/project6_2/requirements.txt (line 2)) (6.0.2)\n",
            "Requirement already satisfied: idna>=2.8 in /usr/local/lib/python3.10/dist-packages (from anyio<5,>=3.5.0->openai->-r /content/drive/MyDrive/project6_2/requirements.txt (line 1)) (3.10)\n",
            "Requirement already satisfied: exceptiongroup in /usr/local/lib/python3.10/dist-packages (from anyio<5,>=3.5.0->openai->-r /content/drive/MyDrive/project6_2/requirements.txt (line 1)) (1.2.2)\n",
            "Requirement already satisfied: aiohappyeyeballs>=2.3.0 in /usr/local/lib/python3.10/dist-packages (from aiohttp->datasets->-r /content/drive/MyDrive/project6_2/requirements.txt (line 2)) (2.4.3)\n",
            "Requirement already satisfied: aiosignal>=1.1.2 in /usr/local/lib/python3.10/dist-packages (from aiohttp->datasets->-r /content/drive/MyDrive/project6_2/requirements.txt (line 2)) (1.3.1)\n",
            "Requirement already satisfied: attrs>=17.3.0 in /usr/local/lib/python3.10/dist-packages (from aiohttp->datasets->-r /content/drive/MyDrive/project6_2/requirements.txt (line 2)) (24.2.0)\n",
            "Requirement already satisfied: frozenlist>=1.1.1 in /usr/local/lib/python3.10/dist-packages (from aiohttp->datasets->-r /content/drive/MyDrive/project6_2/requirements.txt (line 2)) (1.5.0)\n",
            "Requirement already satisfied: multidict<7.0,>=4.5 in /usr/local/lib/python3.10/dist-packages (from aiohttp->datasets->-r /content/drive/MyDrive/project6_2/requirements.txt (line 2)) (6.1.0)\n",
            "Requirement already satisfied: propcache>=0.2.0 in /usr/local/lib/python3.10/dist-packages (from aiohttp->datasets->-r /content/drive/MyDrive/project6_2/requirements.txt (line 2)) (0.2.0)\n",
            "Requirement already satisfied: yarl<2.0,>=1.17.0 in /usr/local/lib/python3.10/dist-packages (from aiohttp->datasets->-r /content/drive/MyDrive/project6_2/requirements.txt (line 2)) (1.17.1)\n",
            "Requirement already satisfied: async-timeout<6.0,>=4.0 in /usr/local/lib/python3.10/dist-packages (from aiohttp->datasets->-r /content/drive/MyDrive/project6_2/requirements.txt (line 2)) (4.0.3)\n",
            "Requirement already satisfied: certifi in /usr/local/lib/python3.10/dist-packages (from httpx<1,>=0.23.0->openai->-r /content/drive/MyDrive/project6_2/requirements.txt (line 1)) (2024.8.30)\n",
            "Requirement already satisfied: httpcore==1.* in /usr/local/lib/python3.10/dist-packages (from httpx<1,>=0.23.0->openai->-r /content/drive/MyDrive/project6_2/requirements.txt (line 1)) (1.0.6)\n",
            "Requirement already satisfied: h11<0.15,>=0.13 in /usr/local/lib/python3.10/dist-packages (from httpcore==1.*->httpx<1,>=0.23.0->openai->-r /content/drive/MyDrive/project6_2/requirements.txt (line 1)) (0.14.0)\n",
            "Requirement already satisfied: annotated-types>=0.6.0 in /usr/local/lib/python3.10/dist-packages (from pydantic<3,>=1.9.0->openai->-r /content/drive/MyDrive/project6_2/requirements.txt (line 1)) (0.7.0)\n",
            "Requirement already satisfied: pydantic-core==2.23.4 in /usr/local/lib/python3.10/dist-packages (from pydantic<3,>=1.9.0->openai->-r /content/drive/MyDrive/project6_2/requirements.txt (line 1)) (2.23.4)\n",
            "Requirement already satisfied: charset-normalizer<4,>=2 in /usr/local/lib/python3.10/dist-packages (from requests>=2.32.2->datasets->-r /content/drive/MyDrive/project6_2/requirements.txt (line 2)) (3.4.0)\n",
            "Requirement already satisfied: urllib3<3,>=1.21.1 in /usr/local/lib/python3.10/dist-packages (from requests>=2.32.2->datasets->-r /content/drive/MyDrive/project6_2/requirements.txt (line 2)) (2.2.3)\n",
            "Requirement already satisfied: python-dateutil>=2.8.2 in /usr/local/lib/python3.10/dist-packages (from pandas->datasets->-r /content/drive/MyDrive/project6_2/requirements.txt (line 2)) (2.8.2)\n",
            "Requirement already satisfied: pytz>=2020.1 in /usr/local/lib/python3.10/dist-packages (from pandas->datasets->-r /content/drive/MyDrive/project6_2/requirements.txt (line 2)) (2024.2)\n",
            "Requirement already satisfied: tzdata>=2022.7 in /usr/local/lib/python3.10/dist-packages (from pandas->datasets->-r /content/drive/MyDrive/project6_2/requirements.txt (line 2)) (2024.2)\n",
            "Requirement already satisfied: six>=1.5 in /usr/local/lib/python3.10/dist-packages (from python-dateutil>=2.8.2->pandas->datasets->-r /content/drive/MyDrive/project6_2/requirements.txt (line 2)) (1.16.0)\n",
            "Downloading datasets-3.1.0-py3-none-any.whl (480 kB)\n",
            "\u001b[2K   \u001b[90m━━━━━━━━━━━━━━━━━━━━━━━━━━━━━━━━━━━━━━━━\u001b[0m \u001b[32m480.6/480.6 kB\u001b[0m \u001b[31m8.9 MB/s\u001b[0m eta \u001b[36m0:00:00\u001b[0m\n",
            "\u001b[?25hDownloading haversine-2.8.1-py2.py3-none-any.whl (7.7 kB)\n",
            "Downloading dill-0.3.8-py3-none-any.whl (116 kB)\n",
            "\u001b[2K   \u001b[90m━━━━━━━━━━━━━━━━━━━━━━━━━━━━━━━━━━━━━━━━\u001b[0m \u001b[32m116.3/116.3 kB\u001b[0m \u001b[31m9.6 MB/s\u001b[0m eta \u001b[36m0:00:00\u001b[0m\n",
            "\u001b[?25hDownloading fsspec-2024.9.0-py3-none-any.whl (179 kB)\n",
            "\u001b[2K   \u001b[90m━━━━━━━━━━━━━━━━━━━━━━━━━━━━━━━━━━━━━━━━\u001b[0m \u001b[32m179.3/179.3 kB\u001b[0m \u001b[31m17.2 MB/s\u001b[0m eta \u001b[36m0:00:00\u001b[0m\n",
            "\u001b[?25hDownloading multiprocess-0.70.16-py310-none-any.whl (134 kB)\n",
            "\u001b[2K   \u001b[90m━━━━━━━━━━━━━━━━━━━━━━━━━━━━━━━━━━━━━━━━\u001b[0m \u001b[32m134.8/134.8 kB\u001b[0m \u001b[31m12.1 MB/s\u001b[0m eta \u001b[36m0:00:00\u001b[0m\n",
            "\u001b[?25hDownloading xxhash-3.5.0-cp310-cp310-manylinux_2_17_x86_64.manylinux2014_x86_64.whl (194 kB)\n",
            "\u001b[2K   \u001b[90m━━━━━━━━━━━━━━━━━━━━━━━━━━━━━━━━━━━━━━━━\u001b[0m \u001b[32m194.1/194.1 kB\u001b[0m \u001b[31m16.5 MB/s\u001b[0m eta \u001b[36m0:00:00\u001b[0m\n",
            "\u001b[?25hInstalling collected packages: xxhash, haversine, fsspec, dill, multiprocess, datasets\n",
            "  Attempting uninstall: fsspec\n",
            "    Found existing installation: fsspec 2024.10.0\n",
            "    Uninstalling fsspec-2024.10.0:\n",
            "      Successfully uninstalled fsspec-2024.10.0\n",
            "\u001b[31mERROR: pip's dependency resolver does not currently take into account all the packages that are installed. This behaviour is the source of the following dependency conflicts.\n",
            "gcsfs 2024.10.0 requires fsspec==2024.10.0, but you have fsspec 2024.9.0 which is incompatible.\u001b[0m\u001b[31m\n",
            "\u001b[0mSuccessfully installed datasets-3.1.0 dill-0.3.8 fsspec-2024.9.0 haversine-2.8.1 multiprocess-0.70.16 xxhash-3.5.0\n"
          ]
        }
      ],
      "source": [
        "# 경로 : /content/drive/MyDrive/project6_2/requirements.txt\n",
        "# 경로가 다른 경우 아래 코드의 경로 부분을 수정하세요.\n",
        "\n",
        "!pip install -r /content/drive/MyDrive/project6_2/requirements.txt"
      ]
    },
    {
      "cell_type": "markdown",
      "metadata": {
        "id": "xpXTO7gP4vyQ"
      },
      "source": [
        "#### 2) 라이브러리 로딩"
      ]
    },
    {
      "cell_type": "code",
      "execution_count": 6,
      "metadata": {
        "id": "_bx5a2MBfAt2"
      },
      "outputs": [],
      "source": [
        "#필요한 라이브러리 설치 및 불러우기\n",
        "import os\n",
        "import requests\n",
        "import xml.etree.ElementTree as ET\n",
        "import pandas as pd\n",
        "import openai\n",
        "from openai import OpenAI\n",
        "from IPython.display import display\n",
        "import json\n",
        "\n",
        "# path = '/content/drive/MyDrive/project6_2/'\n",
        "import sys\n",
        "sys.path.append(path)\n",
        "\n",
        "from transformers import AutoTokenizer, AutoModelForSequenceClassification\n",
        "\n",
        "# 조에서 생성한 모듈 불러오기 -------------\n",
        "from emergency import set_api_key, transcribe_audio, text2summary\n",
        "from emergency import severity_prediction, recommend_hospital3\n"
      ]
    },
    {
      "cell_type": "markdown",
      "source": [
        "#### 3) 경로 설정 및 데이터 불러오기"
      ],
      "metadata": {
        "id": "_RZL0mexFazr"
      }
    },
    {
      "cell_type": "code",
      "source": [
        "# 파일 경로\n",
        "api_key_file = path + 'api_key.txt'\n",
        "save_directory = path + 'fine_tuned_bert/'\n",
        "map_key_file = path + 'map_key.txt'\n",
        "\n",
        "# 응급실 정보 데이터\n",
        "data = pd.read_csv(path+'응급실정보.csv')\n",
        "\n",
        "# 입력 환자 정보\n",
        "audio_file = path + 'audio/audio1.mp3' # 환자 오디오 파일 경로\n",
        "lat, lng = [37.2873665, 126.9912075] # 환자 위치 정보"
      ],
      "metadata": {
        "id": "ernIku1JFaRI"
      },
      "execution_count": null,
      "outputs": []
    },
    {
      "cell_type": "markdown",
      "metadata": {
        "id": "l-qzK-Egog5E"
      },
      "source": [
        "## **2. 단위 테스트**\n",
        "\n",
        "* 세부사항 : 아래 단계별로 데이터가 순차적으로 처리되도록 단위 테스트를 진행합니다."
      ]
    },
    {
      "cell_type": "markdown",
      "metadata": {
        "id": "Y2h3kvuJekAJ"
      },
      "source": [
        "### (1) open ai key 등록"
      ]
    },
    {
      "cell_type": "code",
      "execution_count": null,
      "metadata": {
        "id": "fCh3jcGOekAK"
      },
      "outputs": [],
      "source": [
        "# OPEN API KEY 환경변수 설정\n",
        "set_api_key(api_key_file)\n"
      ]
    },
    {
      "cell_type": "markdown",
      "metadata": {
        "id": "jn3tn-GuK0My"
      },
      "source": [
        "### (2) audio to text"
      ]
    },
    {
      "cell_type": "code",
      "execution_count": null,
      "metadata": {
        "id": "2jcNEwGveebo"
      },
      "outputs": [],
      "source": [
        "# 오디오를 텍스트로 변환\n",
        "input_text = transcribe_audio(audio_file)\n",
        "\n",
        "print(input_text)"
      ]
    },
    {
      "cell_type": "markdown",
      "metadata": {
        "id": "DnyVoEvqe81v"
      },
      "source": [
        "### (3) text summary"
      ]
    },
    {
      "cell_type": "code",
      "execution_count": null,
      "metadata": {
        "id": "2vVlh-oXe81v"
      },
      "outputs": [],
      "source": [
        "# 텍스트를 요약\n",
        "text = text2summary(input_text)\n",
        "\n",
        "print(text)"
      ]
    },
    {
      "cell_type": "markdown",
      "metadata": {
        "id": "Q1WvCVInfMQw"
      },
      "source": [
        "### (4) 응급실 등급분류"
      ]
    },
    {
      "cell_type": "code",
      "execution_count": null,
      "metadata": {
        "id": "4ECAESD3UYnI"
      },
      "outputs": [],
      "source": [
        "# 모델 예측\n",
        "severity_class = severity_prediction(text, save_directory) # default: verbose=False\n",
        "\n",
        "print(severity_class)"
      ]
    },
    {
      "cell_type": "markdown",
      "metadata": {
        "id": "lL0Np_CFrA5g"
      },
      "source": [
        "### (5) 응급실추천"
      ]
    },
    {
      "cell_type": "code",
      "execution_count": null,
      "metadata": {
        "id": "MwsOD-DEr_4Q"
      },
      "outputs": [],
      "source": [
        "# 가까운 병원 3개 출력\n",
        "if severity_class <= 3: # 중증도가 1, 2, 3등급일 경우에만 추천 진행\n",
        "    df = recommend_hospital3(lat, lng, map_key_file, data=data).copy() # alpha: 기본값 lat, lng = [0.1, 0.1]\n",
        "    print(f'환자 위치: [{lat},{lng}]')\n",
        "    display(df)\n",
        "else:\n",
        "\t\tprint('코멘트: 빠른 시일내에 인근 병원에 방문하세요!')"
      ]
    },
    {
      "cell_type": "code",
      "execution_count": null,
      "metadata": {
        "id": "OrjVbo7Zrpag"
      },
      "outputs": [],
      "source": []
    },
    {
      "cell_type": "code",
      "execution_count": null,
      "metadata": {
        "id": "aWAyWtFZrpQq"
      },
      "outputs": [],
      "source": []
    },
    {
      "cell_type": "markdown",
      "metadata": {
        "id": "D73P_NjZq585"
      },
      "source": [
        "## **3. 파이프라인**\n",
        "\n",
        "* 세부사항\n",
        "    * [2. 단계별 테스트] 의 내용을 순차적으로 정리합니다.\n",
        "        * 데이터 처리 전 준비작업 : 한번 실행하면 되는 영역\n",
        "            * 키, 데이터로딩\n",
        "            * 모델/토크나이저 로딩\n",
        "        * 입력값이 들어 왔을 때 출력값까지 처리되는 영역"
      ]
    },
    {
      "cell_type": "code",
      "source": [
        "# 파일 경로\n",
        "api_key_file = path + 'api_key.txt'\n",
        "save_directory = path + 'fine_tuned_bert/'\n",
        "map_key_file = path + 'map_key.txt'\n",
        "\n",
        "# 응급실 정보 데이터\n",
        "data = pd.read_csv(path+'응급실정보.csv')\n",
        "\n",
        "# 입력 환자 정보\n",
        "audio_file = path + 'audio/audio1.mp3' # 환자 오디오 파일 경로\n",
        "lat, lng = [37.2873665, 126.9912075] # 환자 위치 정보"
      ],
      "metadata": {
        "id": "y5I8uwPPH8Q8"
      },
      "execution_count": null,
      "outputs": []
    },
    {
      "cell_type": "code",
      "source": [
        "def setup_pipeline(path):\n",
        "    \"\"\"\n",
        "    파이프라인 실행 전 필요한 준비작업을 수행하는 함수\n",
        "\n",
        "    Args:\n",
        "        path (str): 프로젝트 기본 경로\n",
        "\n",
        "    Returns:\n",
        "        dict: 파이프라인에 필요한 모든 설정값들을 담은 딕셔너리\n",
        "    \"\"\"\n",
        "    # 경로 설정\n",
        "    api_key_file = path + 'api_key.txt'\n",
        "    save_directory = path + 'fine_tuned_bert/'\n",
        "    map_key_file = path + 'map_key.txt'\n",
        "\n",
        "    # OPEN API KEY 환경변수 설정\n",
        "    set_api_key(api_key_file)\n",
        "\n",
        "    # 응급실 정보 데이터 로드\n",
        "    data = pd.read_csv(path+'응급실정보.csv')\n",
        "\n",
        "    # 설정값들을 딕셔너리로 반환\n",
        "    config = {\n",
        "        'save_directory': save_directory,  # 모델 저장 경로만 전달\n",
        "        'map_key_file': map_key_file,\n",
        "        'hospital_data': data\n",
        "    }\n",
        "\n",
        "    return config\n",
        "\n",
        "def emergency_pipeline(audio_file, patient_location, config, verbose=False):\n",
        "    \"\"\"\n",
        "    응급상황 처리를 위한 메인 파이프라인 함수\n",
        "\n",
        "    Args:\n",
        "        audio_file (str): 음성 파일 경로\n",
        "        patient_location (list): [위도, 경도]\n",
        "        config (dict): setup_pipeline에서 반환된 설정값들\n",
        "        verbose (bool): 상세 출력 여부\n",
        "\n",
        "    Returns:\n",
        "        dict: 파이프라인 처리 결과\n",
        "    \"\"\"\n",
        "    try:\n",
        "        # 1. 음성을 텍스트로 변환\n",
        "        if verbose: print(\"1. 음성을 텍스트로 변환 중...\")\n",
        "        input_text = transcribe_audio(audio_file)\n",
        "\n",
        "        # 2. 텍스트 요약\n",
        "        if verbose: print(\"2. 텍스트 요약 중...\")\n",
        "        summary_text = text2summary(input_text)\n",
        "\n",
        "        # 3. 중증도 예측\n",
        "        if verbose: print(\"3. 중증도 예측 중...\")\n",
        "        severity = severity_prediction(summary_text, config['save_directory'])  # 경로만 전달\n",
        "\n",
        "        # 4. 병원 추천 (중증도가 3 이하인 경우만)\n",
        "        hospital_recommendations = None\n",
        "        if severity <= 3:\n",
        "            if verbose: print(\"4. 인근 병원 검색 중...\")\n",
        "            lat, lng = patient_location\n",
        "            hospital_recommendations = recommend_hospital3(\n",
        "                lat, lng,\n",
        "                config['map_key_file'],\n",
        "                config['hospital_data']\n",
        "            )\n",
        "\n",
        "        # 결과를 딕셔너리로 정리\n",
        "        result = {\n",
        "            'original_text': input_text,\n",
        "            'summary_text': summary_text,\n",
        "            'severity_class': severity,\n",
        "            'patient_location': patient_location,\n",
        "            'hospital_recommendations': hospital_recommendations\n",
        "        }\n",
        "\n",
        "        return result\n",
        "\n",
        "    except Exception as e:\n",
        "        print(f\"Error in pipeline: {str(e)}\")\n",
        "        return None\n",
        "\n",
        "# 결과 출력 함수 추가\n",
        "def print_pipeline_results(result):\n",
        "    \"\"\"\n",
        "    파이프라인 결과를 출력하는 함수\n",
        "\n",
        "    Args:\n",
        "        result (dict): emergency_pipeline의 결과\n",
        "    \"\"\"\n",
        "    if result is None:\n",
        "        print(\"파이프라인 처리 중 오류가 발생했습니다.\")\n",
        "        return\n",
        "\n",
        "    print(\"\\n=== 처리 결과 ===\")\n",
        "    print(f\"원본 텍스트: {result['original_text']}\")\n",
        "    print(f\"요약 텍스트: {result['summary_text']}\")\n",
        "    print(f\"중증도 등급: {result['severity_class']}\")\n",
        "\n",
        "    if result['hospital_recommendations'] is not None:\n",
        "        print(\"\\n=== 추천 병원 ===\")\n",
        "        print(f\"환자 위치: {result['patient_location']}\")\n",
        "        display(result['hospital_recommendations'])\n",
        "    else:\n",
        "        print('\\n코멘트: 빠른 시일내에 인근 병원에 방문하세요!')"
      ],
      "metadata": {
        "id": "YPipb0LZJHyw"
      },
      "execution_count": 13,
      "outputs": []
    },
    {
      "cell_type": "code",
      "source": [
        "# 1. 초기 설정\n",
        "path = '/content/drive/MyDrive/project6_2/'\n",
        "config = setup_pipeline(path)\n",
        "\n",
        "# 2. 파이프라인 실행\n",
        "audio_file = path + 'audio/audio1.mp3'\n",
        "patient_location = [37.2873665, 126.9912075]\n",
        "\n",
        "result = emergency_pipeline(audio_file, patient_location, config, verbose=True)\n",
        "\n",
        "# 3. 결과 출력\n",
        "print_pipeline_results(result)"
      ],
      "metadata": {
        "colab": {
          "base_uri": "https://localhost:8080/",
          "height": 469
        },
        "id": "2CkazbKxJHT6",
        "outputId": "a00c2e24-59b1-4a0b-ceb0-31608234c81b"
      },
      "execution_count": 12,
      "outputs": [
        {
          "output_type": "stream",
          "name": "stdout",
          "text": [
            "1. 음성을 텍스트로 변환 중...\n",
            "2. 텍스트 요약 중...\n",
            "3. 중증도 예측 중...\n",
            "4. 인근 병원 검색 중...\n",
            "\n",
            "=== 처리 결과 ===\n",
            "원본 텍스트: 지금 아빠가 넘어졌어요. 머리에서 피가 나는데 숨은 쉬고 있어요. 지금 막 일어났어요. 근데 조금 어지럽다고 하네요. 네네 계단에서 굴렀어요. 지금은 물 마시고 있는데 이거 응급실로 가봐야 할까요? 피도 지금 머졌어요. 네네 나이는 마흔아홉 살 이세요. 어떻게 해야 할지 모르겠어요.\n",
            "\n",
            "요약 텍스트: 아빠가 계단에서 넘어져 머리에서 피를 흘리고 숨은 쉬고 어지러워하는 상황. 응급실 방문이 필요할 수 있음. 아빠, 넘어짐, 피, 머리, 응급실\n",
            "중증도 등급: 2\n",
            "\n",
            "=== 추천 병원 ===\n",
            "환자 위치: [37.2873665, 126.9912075]\n"
          ]
        },
        {
          "output_type": "display_data",
          "data": {
            "text/plain": [
              "           병원이름                             주소  응급의료기관 종류         전화번호 1  \\\n",
              "0    경기도의료원수원병원  경기도 수원시 장안구 수성로245번길 69 (정자동)   지역응급의료기관   031-888-0114   \n",
              "1        수원중앙병원      경기도 수원시 권선구 권선로 654 (권선동)  응급실운영신고기관   031-229-9777   \n",
              "2  가톨릭대학교성빈센트병원       경기도 수원시 팔달구 중부대로 93 (지동)   지역응급의료센터  031-1577-8588   \n",
              "\n",
              "         전화번호 3         위도          경도  dist time  \n",
              "0  031-888-0119  37.291882  126.996388  1.59   8분  \n",
              "1  031-229-9888  37.259913  127.022841  6.65  17분  \n",
              "2  031-249-7370  37.277922  127.027449  6.70  19분  "
            ],
            "text/html": [
              "\n",
              "  <div id=\"df-60b6423f-b4b2-4da1-ae53-7464c323314b\" class=\"colab-df-container\">\n",
              "    <div>\n",
              "<style scoped>\n",
              "    .dataframe tbody tr th:only-of-type {\n",
              "        vertical-align: middle;\n",
              "    }\n",
              "\n",
              "    .dataframe tbody tr th {\n",
              "        vertical-align: top;\n",
              "    }\n",
              "\n",
              "    .dataframe thead th {\n",
              "        text-align: right;\n",
              "    }\n",
              "</style>\n",
              "<table border=\"1\" class=\"dataframe\">\n",
              "  <thead>\n",
              "    <tr style=\"text-align: right;\">\n",
              "      <th></th>\n",
              "      <th>병원이름</th>\n",
              "      <th>주소</th>\n",
              "      <th>응급의료기관 종류</th>\n",
              "      <th>전화번호 1</th>\n",
              "      <th>전화번호 3</th>\n",
              "      <th>위도</th>\n",
              "      <th>경도</th>\n",
              "      <th>dist</th>\n",
              "      <th>time</th>\n",
              "    </tr>\n",
              "  </thead>\n",
              "  <tbody>\n",
              "    <tr>\n",
              "      <th>0</th>\n",
              "      <td>경기도의료원수원병원</td>\n",
              "      <td>경기도 수원시 장안구 수성로245번길 69 (정자동)</td>\n",
              "      <td>지역응급의료기관</td>\n",
              "      <td>031-888-0114</td>\n",
              "      <td>031-888-0119</td>\n",
              "      <td>37.291882</td>\n",
              "      <td>126.996388</td>\n",
              "      <td>1.59</td>\n",
              "      <td>8분</td>\n",
              "    </tr>\n",
              "    <tr>\n",
              "      <th>1</th>\n",
              "      <td>수원중앙병원</td>\n",
              "      <td>경기도 수원시 권선구 권선로 654 (권선동)</td>\n",
              "      <td>응급실운영신고기관</td>\n",
              "      <td>031-229-9777</td>\n",
              "      <td>031-229-9888</td>\n",
              "      <td>37.259913</td>\n",
              "      <td>127.022841</td>\n",
              "      <td>6.65</td>\n",
              "      <td>17분</td>\n",
              "    </tr>\n",
              "    <tr>\n",
              "      <th>2</th>\n",
              "      <td>가톨릭대학교성빈센트병원</td>\n",
              "      <td>경기도 수원시 팔달구 중부대로 93 (지동)</td>\n",
              "      <td>지역응급의료센터</td>\n",
              "      <td>031-1577-8588</td>\n",
              "      <td>031-249-7370</td>\n",
              "      <td>37.277922</td>\n",
              "      <td>127.027449</td>\n",
              "      <td>6.70</td>\n",
              "      <td>19분</td>\n",
              "    </tr>\n",
              "  </tbody>\n",
              "</table>\n",
              "</div>\n",
              "    <div class=\"colab-df-buttons\">\n",
              "\n",
              "  <div class=\"colab-df-container\">\n",
              "    <button class=\"colab-df-convert\" onclick=\"convertToInteractive('df-60b6423f-b4b2-4da1-ae53-7464c323314b')\"\n",
              "            title=\"Convert this dataframe to an interactive table.\"\n",
              "            style=\"display:none;\">\n",
              "\n",
              "  <svg xmlns=\"http://www.w3.org/2000/svg\" height=\"24px\" viewBox=\"0 -960 960 960\">\n",
              "    <path d=\"M120-120v-720h720v720H120Zm60-500h600v-160H180v160Zm220 220h160v-160H400v160Zm0 220h160v-160H400v160ZM180-400h160v-160H180v160Zm440 0h160v-160H620v160ZM180-180h160v-160H180v160Zm440 0h160v-160H620v160Z\"/>\n",
              "  </svg>\n",
              "    </button>\n",
              "\n",
              "  <style>\n",
              "    .colab-df-container {\n",
              "      display:flex;\n",
              "      gap: 12px;\n",
              "    }\n",
              "\n",
              "    .colab-df-convert {\n",
              "      background-color: #E8F0FE;\n",
              "      border: none;\n",
              "      border-radius: 50%;\n",
              "      cursor: pointer;\n",
              "      display: none;\n",
              "      fill: #1967D2;\n",
              "      height: 32px;\n",
              "      padding: 0 0 0 0;\n",
              "      width: 32px;\n",
              "    }\n",
              "\n",
              "    .colab-df-convert:hover {\n",
              "      background-color: #E2EBFA;\n",
              "      box-shadow: 0px 1px 2px rgba(60, 64, 67, 0.3), 0px 1px 3px 1px rgba(60, 64, 67, 0.15);\n",
              "      fill: #174EA6;\n",
              "    }\n",
              "\n",
              "    .colab-df-buttons div {\n",
              "      margin-bottom: 4px;\n",
              "    }\n",
              "\n",
              "    [theme=dark] .colab-df-convert {\n",
              "      background-color: #3B4455;\n",
              "      fill: #D2E3FC;\n",
              "    }\n",
              "\n",
              "    [theme=dark] .colab-df-convert:hover {\n",
              "      background-color: #434B5C;\n",
              "      box-shadow: 0px 1px 3px 1px rgba(0, 0, 0, 0.15);\n",
              "      filter: drop-shadow(0px 1px 2px rgba(0, 0, 0, 0.3));\n",
              "      fill: #FFFFFF;\n",
              "    }\n",
              "  </style>\n",
              "\n",
              "    <script>\n",
              "      const buttonEl =\n",
              "        document.querySelector('#df-60b6423f-b4b2-4da1-ae53-7464c323314b button.colab-df-convert');\n",
              "      buttonEl.style.display =\n",
              "        google.colab.kernel.accessAllowed ? 'block' : 'none';\n",
              "\n",
              "      async function convertToInteractive(key) {\n",
              "        const element = document.querySelector('#df-60b6423f-b4b2-4da1-ae53-7464c323314b');\n",
              "        const dataTable =\n",
              "          await google.colab.kernel.invokeFunction('convertToInteractive',\n",
              "                                                    [key], {});\n",
              "        if (!dataTable) return;\n",
              "\n",
              "        const docLinkHtml = 'Like what you see? Visit the ' +\n",
              "          '<a target=\"_blank\" href=https://colab.research.google.com/notebooks/data_table.ipynb>data table notebook</a>'\n",
              "          + ' to learn more about interactive tables.';\n",
              "        element.innerHTML = '';\n",
              "        dataTable['output_type'] = 'display_data';\n",
              "        await google.colab.output.renderOutput(dataTable, element);\n",
              "        const docLink = document.createElement('div');\n",
              "        docLink.innerHTML = docLinkHtml;\n",
              "        element.appendChild(docLink);\n",
              "      }\n",
              "    </script>\n",
              "  </div>\n",
              "\n",
              "\n",
              "<div id=\"df-402e43c5-dd1e-4e21-8f4f-1ae6f3b9e64c\">\n",
              "  <button class=\"colab-df-quickchart\" onclick=\"quickchart('df-402e43c5-dd1e-4e21-8f4f-1ae6f3b9e64c')\"\n",
              "            title=\"Suggest charts\"\n",
              "            style=\"display:none;\">\n",
              "\n",
              "<svg xmlns=\"http://www.w3.org/2000/svg\" height=\"24px\"viewBox=\"0 0 24 24\"\n",
              "     width=\"24px\">\n",
              "    <g>\n",
              "        <path d=\"M19 3H5c-1.1 0-2 .9-2 2v14c0 1.1.9 2 2 2h14c1.1 0 2-.9 2-2V5c0-1.1-.9-2-2-2zM9 17H7v-7h2v7zm4 0h-2V7h2v10zm4 0h-2v-4h2v4z\"/>\n",
              "    </g>\n",
              "</svg>\n",
              "  </button>\n",
              "\n",
              "<style>\n",
              "  .colab-df-quickchart {\n",
              "      --bg-color: #E8F0FE;\n",
              "      --fill-color: #1967D2;\n",
              "      --hover-bg-color: #E2EBFA;\n",
              "      --hover-fill-color: #174EA6;\n",
              "      --disabled-fill-color: #AAA;\n",
              "      --disabled-bg-color: #DDD;\n",
              "  }\n",
              "\n",
              "  [theme=dark] .colab-df-quickchart {\n",
              "      --bg-color: #3B4455;\n",
              "      --fill-color: #D2E3FC;\n",
              "      --hover-bg-color: #434B5C;\n",
              "      --hover-fill-color: #FFFFFF;\n",
              "      --disabled-bg-color: #3B4455;\n",
              "      --disabled-fill-color: #666;\n",
              "  }\n",
              "\n",
              "  .colab-df-quickchart {\n",
              "    background-color: var(--bg-color);\n",
              "    border: none;\n",
              "    border-radius: 50%;\n",
              "    cursor: pointer;\n",
              "    display: none;\n",
              "    fill: var(--fill-color);\n",
              "    height: 32px;\n",
              "    padding: 0;\n",
              "    width: 32px;\n",
              "  }\n",
              "\n",
              "  .colab-df-quickchart:hover {\n",
              "    background-color: var(--hover-bg-color);\n",
              "    box-shadow: 0 1px 2px rgba(60, 64, 67, 0.3), 0 1px 3px 1px rgba(60, 64, 67, 0.15);\n",
              "    fill: var(--button-hover-fill-color);\n",
              "  }\n",
              "\n",
              "  .colab-df-quickchart-complete:disabled,\n",
              "  .colab-df-quickchart-complete:disabled:hover {\n",
              "    background-color: var(--disabled-bg-color);\n",
              "    fill: var(--disabled-fill-color);\n",
              "    box-shadow: none;\n",
              "  }\n",
              "\n",
              "  .colab-df-spinner {\n",
              "    border: 2px solid var(--fill-color);\n",
              "    border-color: transparent;\n",
              "    border-bottom-color: var(--fill-color);\n",
              "    animation:\n",
              "      spin 1s steps(1) infinite;\n",
              "  }\n",
              "\n",
              "  @keyframes spin {\n",
              "    0% {\n",
              "      border-color: transparent;\n",
              "      border-bottom-color: var(--fill-color);\n",
              "      border-left-color: var(--fill-color);\n",
              "    }\n",
              "    20% {\n",
              "      border-color: transparent;\n",
              "      border-left-color: var(--fill-color);\n",
              "      border-top-color: var(--fill-color);\n",
              "    }\n",
              "    30% {\n",
              "      border-color: transparent;\n",
              "      border-left-color: var(--fill-color);\n",
              "      border-top-color: var(--fill-color);\n",
              "      border-right-color: var(--fill-color);\n",
              "    }\n",
              "    40% {\n",
              "      border-color: transparent;\n",
              "      border-right-color: var(--fill-color);\n",
              "      border-top-color: var(--fill-color);\n",
              "    }\n",
              "    60% {\n",
              "      border-color: transparent;\n",
              "      border-right-color: var(--fill-color);\n",
              "    }\n",
              "    80% {\n",
              "      border-color: transparent;\n",
              "      border-right-color: var(--fill-color);\n",
              "      border-bottom-color: var(--fill-color);\n",
              "    }\n",
              "    90% {\n",
              "      border-color: transparent;\n",
              "      border-bottom-color: var(--fill-color);\n",
              "    }\n",
              "  }\n",
              "</style>\n",
              "\n",
              "  <script>\n",
              "    async function quickchart(key) {\n",
              "      const quickchartButtonEl =\n",
              "        document.querySelector('#' + key + ' button');\n",
              "      quickchartButtonEl.disabled = true;  // To prevent multiple clicks.\n",
              "      quickchartButtonEl.classList.add('colab-df-spinner');\n",
              "      try {\n",
              "        const charts = await google.colab.kernel.invokeFunction(\n",
              "            'suggestCharts', [key], {});\n",
              "      } catch (error) {\n",
              "        console.error('Error during call to suggestCharts:', error);\n",
              "      }\n",
              "      quickchartButtonEl.classList.remove('colab-df-spinner');\n",
              "      quickchartButtonEl.classList.add('colab-df-quickchart-complete');\n",
              "    }\n",
              "    (() => {\n",
              "      let quickchartButtonEl =\n",
              "        document.querySelector('#df-402e43c5-dd1e-4e21-8f4f-1ae6f3b9e64c button');\n",
              "      quickchartButtonEl.style.display =\n",
              "        google.colab.kernel.accessAllowed ? 'block' : 'none';\n",
              "    })();\n",
              "  </script>\n",
              "</div>\n",
              "\n",
              "    </div>\n",
              "  </div>\n"
            ],
            "application/vnd.google.colaboratory.intrinsic+json": {
              "type": "dataframe",
              "summary": "{\n  \"name\": \"print_pipeline_results(result)\",\n  \"rows\": 3,\n  \"fields\": [\n    {\n      \"column\": \"\\ubcd1\\uc6d0\\uc774\\ub984\",\n      \"properties\": {\n        \"dtype\": \"string\",\n        \"num_unique_values\": 3,\n        \"samples\": [\n          \"\\uacbd\\uae30\\ub3c4\\uc758\\ub8cc\\uc6d0\\uc218\\uc6d0\\ubcd1\\uc6d0\",\n          \"\\uc218\\uc6d0\\uc911\\uc559\\ubcd1\\uc6d0\",\n          \"\\uac00\\ud1a8\\ub9ad\\ub300\\ud559\\uad50\\uc131\\ube48\\uc13c\\ud2b8\\ubcd1\\uc6d0\"\n        ],\n        \"semantic_type\": \"\",\n        \"description\": \"\"\n      }\n    },\n    {\n      \"column\": \"\\uc8fc\\uc18c\",\n      \"properties\": {\n        \"dtype\": \"string\",\n        \"num_unique_values\": 3,\n        \"samples\": [\n          \"\\uacbd\\uae30\\ub3c4 \\uc218\\uc6d0\\uc2dc \\uc7a5\\uc548\\uad6c \\uc218\\uc131\\ub85c245\\ubc88\\uae38 69 (\\uc815\\uc790\\ub3d9)\",\n          \"\\uacbd\\uae30\\ub3c4 \\uc218\\uc6d0\\uc2dc \\uad8c\\uc120\\uad6c \\uad8c\\uc120\\ub85c 654 (\\uad8c\\uc120\\ub3d9)\",\n          \"\\uacbd\\uae30\\ub3c4 \\uc218\\uc6d0\\uc2dc \\ud314\\ub2ec\\uad6c \\uc911\\ubd80\\ub300\\ub85c 93 (\\uc9c0\\ub3d9)\"\n        ],\n        \"semantic_type\": \"\",\n        \"description\": \"\"\n      }\n    },\n    {\n      \"column\": \"\\uc751\\uae09\\uc758\\ub8cc\\uae30\\uad00 \\uc885\\ub958\",\n      \"properties\": {\n        \"dtype\": \"string\",\n        \"num_unique_values\": 3,\n        \"samples\": [\n          \"\\uc9c0\\uc5ed\\uc751\\uae09\\uc758\\ub8cc\\uae30\\uad00\",\n          \"\\uc751\\uae09\\uc2e4\\uc6b4\\uc601\\uc2e0\\uace0\\uae30\\uad00\",\n          \"\\uc9c0\\uc5ed\\uc751\\uae09\\uc758\\ub8cc\\uc13c\\ud130\"\n        ],\n        \"semantic_type\": \"\",\n        \"description\": \"\"\n      }\n    },\n    {\n      \"column\": \"\\uc804\\ud654\\ubc88\\ud638 1\",\n      \"properties\": {\n        \"dtype\": \"string\",\n        \"num_unique_values\": 3,\n        \"samples\": [\n          \"031-888-0114\",\n          \"031-229-9777\",\n          \"031-1577-8588\"\n        ],\n        \"semantic_type\": \"\",\n        \"description\": \"\"\n      }\n    },\n    {\n      \"column\": \"\\uc804\\ud654\\ubc88\\ud638 3\",\n      \"properties\": {\n        \"dtype\": \"string\",\n        \"num_unique_values\": 3,\n        \"samples\": [\n          \"031-888-0119\",\n          \"031-229-9888\",\n          \"031-249-7370\"\n        ],\n        \"semantic_type\": \"\",\n        \"description\": \"\"\n      }\n    },\n    {\n      \"column\": \"\\uc704\\ub3c4\",\n      \"properties\": {\n        \"dtype\": \"number\",\n        \"std\": 0.01602684778403357,\n        \"min\": 37.259913344591446,\n        \"max\": 37.29188165276277,\n        \"num_unique_values\": 3,\n        \"samples\": [\n          37.29188165276277,\n          37.259913344591446,\n          37.27792234538125\n        ],\n        \"semantic_type\": \"\",\n        \"description\": \"\"\n      }\n    },\n    {\n      \"column\": \"\\uacbd\\ub3c4\",\n      \"properties\": {\n        \"dtype\": \"number\",\n        \"std\": 0.016762227353753604,\n        \"min\": 126.99638776108884,\n        \"max\": 127.02744945028702,\n        \"num_unique_values\": 3,\n        \"samples\": [\n          126.99638776108884,\n          127.0228408488501,\n          127.02744945028702\n        ],\n        \"semantic_type\": \"\",\n        \"description\": \"\"\n      }\n    },\n    {\n      \"column\": \"dist\",\n      \"properties\": {\n        \"dtype\": \"number\",\n        \"std\": 2.9359325605333653,\n        \"min\": 1.59,\n        \"max\": 6.7,\n        \"num_unique_values\": 3,\n        \"samples\": [\n          1.59,\n          6.65,\n          6.7\n        ],\n        \"semantic_type\": \"\",\n        \"description\": \"\"\n      }\n    },\n    {\n      \"column\": \"time\",\n      \"properties\": {\n        \"dtype\": \"string\",\n        \"num_unique_values\": 3,\n        \"samples\": [\n          \"8\\ubd84\",\n          \"17\\ubd84\",\n          \"19\\ubd84\"\n        ],\n        \"semantic_type\": \"\",\n        \"description\": \"\"\n      }\n    }\n  ]\n}"
            }
          },
          "metadata": {}
        }
      ]
    }
  ],
  "metadata": {
    "colab": {
      "provenance": [],
      "toc_visible": true
    },
    "kernelspec": {
      "display_name": "Python 3",
      "name": "python3"
    },
    "language_info": {
      "name": "python"
    }
  },
  "nbformat": 4,
  "nbformat_minor": 0
}